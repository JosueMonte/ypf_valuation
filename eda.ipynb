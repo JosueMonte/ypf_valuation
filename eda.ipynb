{
 "cells": [
  {
   "cell_type": "markdown",
   "id": "070870d7",
   "metadata": {},
   "source": [
    "# 1. EDA"
   ]
  },
  {
   "cell_type": "code",
   "execution_count": 4,
   "id": "7ac5b9fe",
   "metadata": {},
   "outputs": [
    {
     "ename": "ModuleNotFoundError",
     "evalue": "No module named 'pandas'",
     "output_type": "error",
     "traceback": [
      "\u001b[31m---------------------------------------------------------------------------\u001b[39m",
      "\u001b[31mModuleNotFoundError\u001b[39m                       Traceback (most recent call last)",
      "\u001b[36mCell\u001b[39m\u001b[36m \u001b[39m\u001b[32mIn[4]\u001b[39m\u001b[32m, line 2\u001b[39m\n\u001b[32m      1\u001b[39m \u001b[38;5;66;03m# Importar librerías\u001b[39;00m\n\u001b[32m----> \u001b[39m\u001b[32m2\u001b[39m \u001b[38;5;28;01mimport\u001b[39;00m\u001b[38;5;250m \u001b[39m\u001b[34;01mpandas\u001b[39;00m\u001b[38;5;250m \u001b[39m\u001b[38;5;28;01mas\u001b[39;00m\u001b[38;5;250m \u001b[39m\u001b[34;01mpd\u001b[39;00m\n\u001b[32m      3\u001b[39m \u001b[38;5;28;01mimport\u001b[39;00m\u001b[38;5;250m \u001b[39m\u001b[34;01mnumpy\u001b[39;00m\u001b[38;5;250m \u001b[39m\u001b[38;5;28;01mas\u001b[39;00m\u001b[38;5;250m \u001b[39m\u001b[34;01mnp\u001b[39;00m\n\u001b[32m      4\u001b[39m \u001b[38;5;28;01mimport\u001b[39;00m\u001b[38;5;250m \u001b[39m\u001b[34;01mmatplotlib\u001b[39;00m\u001b[34;01m.\u001b[39;00m\u001b[34;01mpyplot\u001b[39;00m\u001b[38;5;250m \u001b[39m\u001b[38;5;28;01mas\u001b[39;00m\u001b[38;5;250m \u001b[39m\u001b[34;01mplt\u001b[39;00m\n",
      "\u001b[31mModuleNotFoundError\u001b[39m: No module named 'pandas'"
     ]
    }
   ],
   "source": [
    "# Importar librerías\n",
    "import pandas as pd\n",
    "import numpy as np\n",
    "import matplotlib.pyplot as plt\n",
    "import seaborn as sns\n",
    "from scipy import stats\n",
    "import plotly.express as px\n",
    "import plotly.graph_objects as go\n",
    "from sklearn.preprocessing import StandardScaler\n",
    "from sklearn.decomposition import PCA"
   ]
  },
  {
   "cell_type": "code",
   "execution_count": null,
   "id": "bd2f2a8c",
   "metadata": {},
   "outputs": [],
   "source": [
    "# Configurar estilo de visualización\n",
    "plt.style.use('seaborn')\n",
    "sns.set_palette('viridis')\n",
    "\n",
    "# Crear dataset sintético basado en información pública de YPF (2023-2024)\n",
    "data = {\n",
    "    'Trimestre': ['Q1-2023', 'Q2-2023', 'Q3-2023', 'Q4-2023', 'Q1-2024', 'Q2-2024', 'Q3-2024'],\n",
    "    'Produccion_Petroleo_kbd': [310, 315, 320, 325, 330, 335, 340],  # Miles de barriles/día\n",
    "    'Produccion_Gas_MMm3d': [37, 38, 39, 40, 41, 42, 43],  # Millones de m³/día\n",
    "    'Produccion_Shale_Petroleo_kbd': [90, 100, 110, 115, 120, 122, 126],\n",
    "    'Ventas_Combustibles_MML': [1500, 1550, 1600, 1650, 1620, 1580, 1700],  # Millones de litros\n",
    "    'Costo_Extraccion_USD_bbl': [12.5, 12.0, 11.8, 11.5, 11.7, 11.9, 11.6],  # USD por barril\n",
    "    'Ingresos_MUSD': [4000, 4200, 4300, 4500, 4400, 4300, 4600],  # Millones USD\n",
    "    'EBITDA_MUSD': [1200, 1250, 1300, 1366, 1300, 1204, 1366],\n",
    "    'CAPEX_MUSD': [1100, 1150, 1200, 1250, 1300, 1200, 1353],\n",
    "    'Deuda_Neta_MUSD': [6800, 6900, 7000, 7100, 7200, 7457, 7500],\n",
    "    'Precio_Brent_USD_bbl': [80, 75, 85, 82, 87, 83, 80]\n",
    "}\n",
    "df = pd.DataFrame(data)\n",
    "\n",
    "# Guardar dataset sintético (opcional)\n",
    "df.to_csv('ypf_data_sintetico.csv', index=False)\n",
    "\n",
    "# Mostrar primeras filas\n",
    "print(df.head())"
   ]
  },
  {
   "cell_type": "code",
   "execution_count": null,
   "id": "0ab6292c",
   "metadata": {},
   "outputs": [],
   "source": []
  }
 ],
 "metadata": {
  "kernelspec": {
   "display_name": "venv",
   "language": "python",
   "name": "python3"
  },
  "language_info": {
   "codemirror_mode": {
    "name": "ipython",
    "version": 3
   },
   "file_extension": ".py",
   "mimetype": "text/x-python",
   "name": "python",
   "nbconvert_exporter": "python",
   "pygments_lexer": "ipython3",
   "version": "3.11.5"
  }
 },
 "nbformat": 4,
 "nbformat_minor": 5
}
